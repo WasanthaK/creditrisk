{
 "cells": [
  {
   "cell_type": "code",
   "execution_count": null,
   "metadata": {},
   "outputs": [
    {
     "name": "stdout",
     "output_type": "stream",
     "text": [
      "Using persistence directory: c:\\Users\\User\\creditanalysis\\chroma_data\n",
      "Failed to store data in ChromaDB: 'Client' object has no attribute 'persist'\n",
      "Retrieved Data: {'ids': ['test_id_001'], 'embeddings': None, 'documents': ['Test document for embedding storage.'], 'uris': None, 'data': None, 'metadatas': [{'description': 'Test metadata'}], 'included': [<IncludeEnum.documents: 'documents'>, <IncludeEnum.metadatas: 'metadatas'>]}\n"
     ]
    }
   ],
   "source": [
    "import os\n",
    "from chromadb import Client\n",
    "from chromadb.config import Settings\n",
    "\n",
    "# Load persistence directory\n",
    "persist_directory = os.path.join(os.getcwd(), \"chroma_data\")\n",
    "print(f\"Using persistence directory: {persist_directory}\")\n",
    "\n",
    "# Initialize ChromaDB client\n",
    "chroma_client = Client(Settings(persist_directory=persist_directory))\n",
    "\n",
    "# Create collection and add a test embedding\n",
    "try:\n",
    "    collection_name = \"test_embeddings_collection\"\n",
    "    chroma_collection = chroma_client.get_or_create_collection(name=collection_name)\n",
    "\n",
    "    # Add a test embedding\n",
    "    chroma_collection.add(\n",
    "        documents=[\"Test document for embedding storage.\"],\n",
    "        metadatas=[{\"description\": \"Test metadata\"}],\n",
    "        ids=[\"test_id_001\"],\n",
    "        embeddings=[[0.1, 0.2, 0.3, 0.4, 0.5]]  # Example embedding vector\n",
    "    )\n",
    "    # Persist data to disk\n",
    "    chroma_client.persist()\n",
    "    print(\"Data stored successfully and persisted.\")\n",
    "except Exception as e:\n",
    "    print(f\"Failed to store data in ChromaDB: {e}\")\n",
    "\n",
    "# Retrieve and print the data to confirm persistence\n",
    "try:\n",
    "    chroma_collection = chroma_client.get_or_create_collection(name=collection_name)\n",
    "    stored_data = chroma_collection.get()\n",
    "    print(\"Retrieved Data:\", stored_data)\n",
    "except Exception as e:\n",
    "    print(f\"Failed to retrieve data from ChromaDB: {e}\")\n"
   ]
  }
 ],
 "metadata": {
  "kernelspec": {
   "display_name": "new_venv",
   "language": "python",
   "name": "python3"
  },
  "language_info": {
   "codemirror_mode": {
    "name": "ipython",
    "version": 3
   },
   "file_extension": ".py",
   "mimetype": "text/x-python",
   "name": "python",
   "nbconvert_exporter": "python",
   "pygments_lexer": "ipython3",
   "version": "3.12.6"
  }
 },
 "nbformat": 4,
 "nbformat_minor": 2
}
