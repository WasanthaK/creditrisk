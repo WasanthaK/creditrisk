{
 "cells": [
  {
   "cell_type": "code",
   "execution_count": 2,
   "metadata": {},
   "outputs": [],
   "source": [
    "customer_info = \"\"\"\n",
    "Customer ID: CUST0101\n",
    "Age: 35\n",
    "Gender: Female\n",
    "Marital Status: Single\n",
    "Occupation: Private Sector Employee\n",
    "Income Level: 25000000\n",
    "Credit Limit: 8000000\n",
    "Credit Score: 550\n",
    "Card Type: Gold\n",
    "Years With Bank: 5\n",
    "Number of Credit Cards: 2\n",
    "Average Monthly Spending: 1500000\n",
    "Late Payments: 6\n",
    "Credit Card Usage: 0.75\n",
    "Mobile Banking Usage: Yes\n",
    "Customer Satisfaction Rating: 3\n",
    "\"\"\""
   ]
  },
  {
   "cell_type": "code",
   "execution_count": 4,
   "metadata": {},
   "outputs": [
    {
     "data": {
      "text/plain": [
       "'\\nCustomer ID: CUST0101\\nAge: 35\\nGender: Female\\nMarital Status: Single\\nOccupation: Private Sector Employee\\nIncome Level: 25000000\\nCredit Limit: 8000000\\nCredit Score: 550\\nCard Type: Gold\\nYears With Bank: 5\\nNumber of Credit Cards: 2\\nAverage Monthly Spending: 1500000\\nLate Payments: 6\\nCredit Card Usage: 0.75\\nMobile Banking Usage: Yes\\nCustomer Satisfaction Rating: 3\\n'"
      ]
     },
     "execution_count": 4,
     "metadata": {},
     "output_type": "execute_result"
    }
   ],
   "source": [
    "customer_info"
   ]
  },
  {
   "cell_type": "code",
   "execution_count": 14,
   "metadata": {},
   "outputs": [
    {
     "name": "stdout",
     "output_type": "stream",
     "text": [
      "Default Risk Advice: Based on the provided customer information, the customer appears to be at a higher risk of defaulting on their credit payments due to several factors:\n",
      "\n",
      "1. **Low Credit Score (548)**: A low credit score indicates that the customer may not have a strong credit history, which can make it more challenging for them to manage their debt.\n",
      "2. **High Average Monthly Spending (3276120)**: The customer's high spending habits could lead to overspending and accumulating debt, increasing the likelihood of defaulting on payments.\n",
      "3. **Multiple Credit Cards**: Having multiple credit cards can increase the risk of defaulting, as it can be challenging for customers to keep track of their expenses and payments.\n",
      "4. **High Credit Limit (9845164)**: A high credit limit can provide a false sense of security, leading to overspending and accumulating debt.\n",
      "5. **Low Mobile Banking Usage**: Not using mobile banking services means the customer may not have access to real-time account updates, making it more challenging for them to monitor their spending and stay on top of payments.\n",
      "\n",
      "Reasoning:\n",
      "\n",
      "* The customer's age (51) suggests they may be nearing retirement age or have a stable income, but this is not necessarily a guarantee that they will manage their debt effectively.\n",
      "* Their occupation as a student could indicate financial constraints, but it's essential to explore other factors, such as their income level and expenses.\n",
      "* The customer's marital status (widowed) might affect their financial stability, but there is no information available on this.\n",
      "\n",
      "Suggestions for preventing potential default:\n",
      "\n",
      "1. **Credit Limit Reduction**: Consider reducing the credit limit to a more manageable amount to prevent overspending.\n",
      "2. **Monthly Spending Analysis**: Encourage the customer to review their average monthly spending and create a budget to allocate funds effectively.\n",
      "3. **Regular Payment Reminders**: Implement automated payment reminders or notifications to ensure timely payments are made.\n",
      "4. **Credit Score Monitoring**: Monitor the customer's credit score regularly to identify any changes that may indicate potential financial difficulties.\n",
      "5. **Financial Education**: Offer financial education resources and workshops to help the customer understand personal finance, budgeting, and debt management.\n",
      "6. **Mobile Banking Integration**: Consider integrating mobile banking services to provide real-time account updates, making it easier for the customer to track their spending and stay on top of payments.\n",
      "7. **Regular Account Reviews**: Schedule regular account reviews with the customer to assess their financial situation and adjust strategies as needed.\n",
      "\n",
      "By implementing these suggestions, you can help reduce the risk of default and provide a more stable financial future for the customer.\n"
     ]
    }
   ],
   "source": [
    "import requests\n",
    "import json\n",
    "\n",
    "# API endpoint for querying the model for advice on default risk\n",
    "LLAMA_API_URL = \"http://ollama_container:11434/api/generate\"\n",
    "\n",
    "# Function to get advice from the specified model on default risk\n",
    "def get_default_risk_advice(customer_info, model_name):\n",
    "    headers = {'Content-Type': 'application/json'}\n",
    "    \n",
    "    # Create the prompt\n",
    "    prompt = f\"\"\"\n",
    "    Based on the following customer information, please provide advice on whether the customer is at risk of defaulting on their credit payments:\n",
    "    \n",
    "    {customer_info}\n",
    "    \n",
    "    Provide reasoning and suggestions for preventing potential default.\n",
    "    \"\"\"\n",
    "    \n",
    "    # The payload includes the model name and the prompt\n",
    "    payload = {\n",
    "        \"prompt\": prompt,\n",
    "        \"max_tokens\": 150,\n",
    "        \"model\": model_name\n",
    "    }\n",
    "    \n",
    "    # Make the POST request to the API\n",
    "    response = requests.post(LLAMA_API_URL, headers=headers, data=json.dumps(payload), stream=True)\n",
    "    \n",
    "    # Initialize an empty string to store the full response\n",
    "    full_response = \"\"\n",
    "    \n",
    "    # Iterate through the streamed response\n",
    "    for line in response.iter_lines():\n",
    "        if line:\n",
    "            try:\n",
    "                # Parse each line as JSON and concatenate the 'response' field\n",
    "                line_data = json.loads(line.decode('utf-8'))\n",
    "                full_response += line_data.get('response', '')\n",
    "            except json.JSONDecodeError:\n",
    "                print(\"Failed to decode line:\", line)\n",
    "                continue\n",
    "    \n",
    "    # Check if the response has meaningful content\n",
    "    if full_response:\n",
    "        return full_response\n",
    "    else:\n",
    "        print(f\"Error: {response.status_code}\")\n",
    "        return None\n",
    "\n",
    "# Example customer information\n",
    "customer_info = \"\"\"\n",
    "Customer ID: CUST1101\n",
    "Age: 51\n",
    "Gender: Male\n",
    "Marital Status: Widowed\n",
    "Occupation: Student\n",
    "Income Level: 29156507\n",
    "Credit Limit: 9845164\n",
    "Credit Score: 548\n",
    "Card Type: Platinum\n",
    "Years With Bank: 3\n",
    "Number of Credit Cards: 3\n",
    "Average Monthly Spending: 3276120\n",
    "Late Payments: 6\n",
    "Credit Card Usage: 0.42\n",
    "Mobile Banking Usage: No\n",
    "Customer Satisfaction Rating: 5\n",
    "\"\"\"\n",
    "\n",
    "# Call the function with the model name (for example, \"llama3.2\" or another model you want to use)\n",
    "advice = get_default_risk_advice(customer_info, model_name=\"llama3.2\")\n",
    "\n",
    "# Print the response\n",
    "if advice:\n",
    "    print(\"Default Risk Advice:\", advice)\n",
    "else:\n",
    "    print(\"Failed to get advice.\")\n"
   ]
  }
 ],
 "metadata": {
  "kernelspec": {
   "display_name": "new_venv",
   "language": "python",
   "name": "python3"
  },
  "language_info": {
   "codemirror_mode": {
    "name": "ipython",
    "version": 3
   },
   "file_extension": ".py",
   "mimetype": "text/x-python",
   "name": "python",
   "nbconvert_exporter": "python",
   "pygments_lexer": "ipython3",
   "version": "3.12.6"
  }
 },
 "nbformat": 4,
 "nbformat_minor": 2
}
