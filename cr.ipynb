{
 "cells": [
  {
   "cell_type": "code",
   "execution_count": null,
   "metadata": {},
   "outputs": [],
   "source": [
    "pip install scipy"
   ]
  },
  {
   "cell_type": "code",
   "execution_count": 3,
   "metadata": {},
   "outputs": [],
   "source": [
    "import os\n",
    "import requests\n",
    "import pandas as pd\n",
    "import numpy as np\n",
    "from dotenv import load_dotenv\n",
    "from scipy.spatial.distance import cosine"
   ]
  },
  {
   "cell_type": "code",
   "execution_count": 4,
   "metadata": {},
   "outputs": [],
   "source": [
    "# Load environment variables\n",
    "load_dotenv()\n",
    "api_key = os.getenv(\"API_KEY\")\n",
    "endpoint = os.getenv(\"ENDPOINT\")\n",
    "\n",
    "# Load the pre-generated embeddings\n",
    "embeddings_df = pd.read_csv('Customer_Embeddings.csv')\n",
    "\n",
    "# Check the structure of the Embeddings column\n",
    "# If the embeddings are stored as strings, ensure they can be properly processed\n",
    "if isinstance(embeddings_df['Embeddings'][0], str):\n",
    "    # Convert the embeddings from string representation to np.array\n",
    "    embeddings_df['Embeddings'] = embeddings_df['Embeddings'].apply(lambda x: np.fromstring(x.strip(\"[]\"), sep=\",\"))\n",
    "\n",
    "# Define headers for embedding request\n",
    "headers = {\n",
    "    \"api-key\": api_key,\n",
    "    \"Content-Type\": \"application/json\"\n",
    "}\n"
   ]
  },
  {
   "cell_type": "code",
   "execution_count": 6,
   "metadata": {},
   "outputs": [],
   "source": [
    "# Function to generate an embedding for the input demographics\n",
    "def get_embedding(text):\n",
    "    data_payload = {\n",
    "        \"input\": [text],\n",
    "        \"model\": \"text-embedding-ada-002\"\n",
    "    }\n",
    "    response = requests.post(f\"{endpoint}/openai/deployments/text-embedding-ada-002/embeddings?api-version=2024-04-01-preview\", headers=headers, json=data_payload)\n",
    "    \n",
    "    if response.status_code == 200:\n",
    "        return response.json()['data'][0]['embedding']\n",
    "    else:\n",
    "        print(f\"Embedding API Error: {response.status_code} - {response.text}\")\n",
    "        return None\n"
   ]
  },
  {
   "cell_type": "code",
   "execution_count": 7,
   "metadata": {},
   "outputs": [],
   "source": [
    "# Function to find the most similar profiles based on cosine similarity\n",
    "def find_similar_profiles(input_embedding, embeddings_df, top_n=3):\n",
    "    # Calculate similarity for each stored embedding\n",
    "    try:\n",
    "        embeddings_df['similarity'] = embeddings_df['Embeddings'].apply(lambda emb: 1 - cosine(input_embedding, emb))\n",
    "    except Exception as e:\n",
    "        print(f\"Error calculating similarity: {e}\")\n",
    "        return None\n",
    "\n",
    "    # Sort by similarity and select top N most similar profiles\n",
    "    return embeddings_df.nlargest(top_n, 'similarity')[['CustomerID', 'similarity']]"
   ]
  },
  {
   "cell_type": "code",
   "execution_count": 16,
   "metadata": {},
   "outputs": [],
   "source": [
    "# Function to predict using GPT-4o-mini based on similar profiles\n",
    "def predict_with_gpt4(similar_profiles, task):\n",
    "    # Format the similar profiles for the GPT-4 prompt\n",
    "    profiles_text = \"\\n\".join([f\"CustomerID: {row['CustomerID']}, Similarity Score: {row['similarity']}\" for _, row in similar_profiles.iterrows()])\n",
    "    prompt = f\"Based on the following similar customer profiles:\\n{profiles_text}\\nForecast {task} considering demographics and explain why this forecast is appropriate.\"\n",
    "\n",
    "    # Define the endpoint for the GPT-4o-mini deployment\n",
    "    if not endpoint or not api_key:\n",
    "        print(\"Missing API endpoint or API key in environment variables.\")\n",
    "        return None\n",
    "\n",
    "    url = f\"{endpoint}/openai/deployments/gpt-4o-mini/chat/completions?api-version=2024-08-01-preview\"\n",
    "\n",
    "    # Define headers\n",
    "    headers = {\n",
    "        \"api-key\": api_key,\n",
    "        \"Content-Type\": \"application/json\"\n",
    "    }\n",
    "    \n",
    "    # Define the request payload\n",
    "    payload = {\n",
    "        \"messages\": [\n",
    "            {\"role\": \"system\", \"content\": \"You are a financial forecasting assistant.\"},\n",
    "            {\"role\": \"user\", \"content\": prompt}\n",
    "        ],\n",
    "        \"max_tokens\": 150,\n",
    "        \"temperature\": 0.7\n",
    "    }\n",
    "    # Make the request to the API\n",
    "    try:\n",
    "        response = requests.post(url, headers=headers, json=payload)\n",
    "    except requests.exceptions.RequestException as e:\n",
    "        print(f\"Request error: {e}\")\n",
    "        return None\n",
    "\n",
    "    # Check if the request was successful\n",
    "    if response.status_code == 200:\n",
    "        return response.json()['choices'][0]['message']['content']\n",
    "    else:\n",
    "        # Print error if the request fails\n",
    "        print(f\"ChatCompletion API Error: {response.status_code} - {response.text}\")\n",
    "        return None"
   ]
  },
  {
   "cell_type": "code",
   "execution_count": null,
   "metadata": {},
   "outputs": [],
   "source": [
    "# Main Workflow\n",
    "if __name__ == \"__main__\":\n",
    "    # Step 1: Generate embedding for input text\n",
    "    test_text = \"Age: 30, Salary: 5000, Job Title: Private Sector Employee\"\n",
    "    input_embedding = get_embedding(test_text)\n",
    "\n",
    "    if input_embedding is not None:\n",
    "        # Step 2: Find similar profiles using the corrected DataFrame\n",
    "        similar_profiles_df = find_similar_profiles(input_embedding, embeddings_df)\n",
    "\n",
    "        if similar_profiles_df is not None and not similar_profiles_df.empty:\n",
    "            # Step 3: Use the similar profiles to generate predictions\n",
    "            tasks = [\n",
    "                \"forecast credit line\",\n",
    "                \"forecast credit risk\",\n",
    "                \"forecast credit score\",\n",
    "                \"forecast response to marketing campaign\",\n",
    "                \"forecast market opportunity\"\n",
    "            ]\n",
    "\n",
    "            for task in tasks:\n",
    "                print(f\"\\n{task.capitalize()}:\")\n",
    "                prediction = predict_with_gpt4(similar_profiles_df, task)\n",
    "                if prediction:\n",
    "                    print(prediction)\n",
    "        else:\n",
    "            print(\"No similar profiles found or similarity calculation failed.\")\n",
    "    else:\n",
    "        print(\"Failed to generate embedding.\")\n"
   ]
  }
 ],
 "metadata": {
  "kernelspec": {
   "display_name": "env",
   "language": "python",
   "name": "python3"
  },
  "language_info": {
   "codemirror_mode": {
    "name": "ipython",
    "version": 3
   },
   "file_extension": ".py",
   "mimetype": "text/x-python",
   "name": "python",
   "nbconvert_exporter": "python",
   "pygments_lexer": "ipython3",
   "version": "3.12.6"
  }
 },
 "nbformat": 4,
 "nbformat_minor": 2
}
