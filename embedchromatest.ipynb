{
 "cells": [
  {
   "cell_type": "code",
   "execution_count": 5,
   "metadata": {},
   "outputs": [
    {
     "name": "stdout",
     "output_type": "stream",
     "text": [
      "Environment variables loaded successfully.\n",
      "ChromaDB initialized successfully.\n"
     ]
    },
    {
     "name": "stderr",
     "output_type": "stream",
     "text": [
      "Add of existing embedding ID: test_id_001\n",
      "Insert of existing embedding ID: test_id_001\n"
     ]
    },
    {
     "name": "stdout",
     "output_type": "stream",
     "text": [
      "Embedding created successfully.\n",
      "Embedding stored successfully in ChromaDB.\n",
      "Stored Data: {'ids': ['test_id_001'], 'embeddings': None, 'documents': ['Test document for embedding storage.'], 'uris': None, 'data': None, 'metadatas': [{'description': 'Test metadata'}], 'included': [<IncludeEnum.documents: 'documents'>, <IncludeEnum.metadatas: 'metadatas'>]}\n",
      "Failed to store embedding in ChromaDB: 0\n"
     ]
    }
   ],
   "source": [
    "import os\n",
    "import requests\n",
    "from chromadb import Client\n",
    "from chromadb.config import Settings\n",
    "from dotenv import load_dotenv\n",
    "\n",
    "# Load environment variables\n",
    "load_dotenv()\n",
    "api_key = os.getenv(\"EMBEDDING_KEY\")\n",
    "endpoint = os.getenv(\"EMBEDDING_END_POINT\")\n",
    "\n",
    "# Step 1: Test if environment variables are loaded correctly\n",
    "if not api_key or not endpoint:\n",
    "    print(\"Failed to load environment variables.\")\n",
    "    exit()\n",
    "else:\n",
    "    print(\"Environment variables loaded successfully.\")\n",
    "\n",
    "# Step 2: Initialize ChromaDB client\n",
    "persist_directory = \"chroma_data\"\n",
    "if not os.path.exists(persist_directory):\n",
    "    os.makedirs(persist_directory)\n",
    "\n",
    "try:\n",
    "    chroma_client = Client(Settings(persist_directory=persist_directory))\n",
    "    print(\"ChromaDB initialized successfully.\")\n",
    "except Exception as e:\n",
    "    print(f\"Failed to initialize ChromaDB: {e}\")\n",
    "    exit()\n",
    "\n",
    "# Step 3: Create a single embedding using the API\n",
    "model_deployment = \"text-embedding-ada-002\"\n",
    "api_version = \"2024-04-01-preview\"\n",
    "url = f\"{endpoint}/openai/deployments/{model_deployment}/embeddings?api-version={api_version}\"\n",
    "\n",
    "headers = {\n",
    "    \"api-key\": api_key,\n",
    "    \"Content-Type\": \"application/json\"\n",
    "}\n",
    "\n",
    "data_payload = {\n",
    "    \"input\": \"Test input for creating an embedding\"\n",
    "}\n",
    "\n",
    "try:\n",
    "    response = requests.post(url, headers=headers, json=data_payload)\n",
    "    if response.status_code == 200:\n",
    "        embedding = response.json()['data'][0]['embedding']\n",
    "        print(\"Embedding created successfully.\")\n",
    "    else:\n",
    "        print(f\"Failed to create embedding: Status code {response.status_code}, Response: {response.text}\")\n",
    "        exit()\n",
    "except requests.exceptions.RequestException as e:\n",
    "    print(f\"Request failed: {e}\")\n",
    "    exit()\n",
    "\n",
    "# Step 4: Store the embedding in ChromaDB\n",
    "try:\n",
    "    collection_name = \"test_embeddings_collection\"\n",
    "    chroma_collection = chroma_client.get_or_create_collection(\n",
    "        name=collection_name, \n",
    "        metadata={\"description\": \"Test Collection\"}\n",
    "    )\n",
    "    \n",
    "    # Add the embedding to the collection\n",
    "    chroma_collection.add(\n",
    "        documents=[\"Test document for embedding storage.\"],\n",
    "        metadatas=[{\"description\": \"Test metadata\"}],\n",
    "        ids=[\"test_id_001\"],\n",
    "        embeddings=[embedding]\n",
    "    )\n",
    "    \n",
    "    print(\"Embedding stored successfully in ChromaDB.\")\n",
    "    \n",
    "    # Fetch the stored data to confirm persistence\n",
    "    stored_data = chroma_collection.get()\n",
    "    print(\"Stored Data:\", stored_data)\n",
    "    print(\"Embedding:\", stored_data[0]['embedding'])\n",
    "\n",
    "except Exception as e:\n",
    "    print(f\"Failed to store embedding in ChromaDB: {e}\")\n"
   ]
  }
 ],
 "metadata": {
  "kernelspec": {
   "display_name": "new_venv",
   "language": "python",
   "name": "python3"
  },
  "language_info": {
   "codemirror_mode": {
    "name": "ipython",
    "version": 3
   },
   "file_extension": ".py",
   "mimetype": "text/x-python",
   "name": "python",
   "nbconvert_exporter": "python",
   "pygments_lexer": "ipython3",
   "version": "3.12.6"
  }
 },
 "nbformat": 4,
 "nbformat_minor": 2
}
