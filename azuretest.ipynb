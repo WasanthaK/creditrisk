{
 "cells": [
  {
   "cell_type": "code",
   "execution_count": 25,
   "metadata": {},
   "outputs": [
    {
     "name": "stdout",
     "output_type": "stream",
     "text": [
      "Model name: phi35-vision-instruct\n",
      "Model type: chat-completion\n",
      "Model provider name: Phi\n",
      "Response:  Based on the data provided, the credit risk assessment for the new customer can be generated as follows:\n",
      "\n",
      "1. Credit Score: The new customer has a credit score of 609, which is considered to be in the fair range. This indicates that the customer has a moderate risk of defaulting on their credit obligations.\n",
      "2. Credit Limit: The new customer has a credit limit of 48785, which is considered to be a moderate amount. This indicates that the customer has a moderate risk of defaulting on their credit obligations.\n",
      "3. Credit Card Usage: The new customer has a credit card usage of 0.37, which is considered to be a moderate amount. This indicates that the customer has a moderate risk of defaulting on their credit obligations.\n",
      "4. Late Payments: The new customer has 1 late payment, which is considered to be a moderate amount. This indicates that the customer has a moderate risk of defaulting on their credit obligations.\n",
      "5. Customer Satisfaction Rating: The new customer has a customer satisfaction rating of 1, which is considered to be a low rating. This indicates that the customer has a low level of satisfaction with their banking experience.\n",
      "\n",
      "Overall, based on the data provided, the new customer has a moderate risk of defaulting on their credit obligations. The customer's credit score, credit limit, credit card usage, late payments, and customer satisfaction rating all indicate that the customer has a moderate risk of defaulting on their credit obligations.\n",
      "Model: phi35-vision-instruct\n",
      "Usage:\n",
      "\tPrompt tokens: 773\n",
      "\tTotal tokens: 1114\n"
     ]
    }
   ],
   "source": [
    "import os\n",
    "from dotenv import load_dotenv\n",
    "from azure.ai.inference import ChatCompletionsClient\n",
    "from azure.core.credentials import AzureKeyCredential\n",
    "load_dotenv(override=True)\n",
    "\n",
    "api_key = os.getenv(\"AZURE_INFERENCE_CREDENTIAL\")\n",
    "if not api_key:\n",
    "  raise Exception(\"A key should be provided to invoke the endpoint\")\n",
    "\n",
    "client = ChatCompletionsClient(\n",
    "    endpoint='https://Phi-3-5-vision-instruct-vmdvw.southcentralus.models.ai.azure.com',\n",
    "    credential=AzureKeyCredential(\"j1SdH3PkLceDaCLMlFkRIkyGCOgRrhx5\")\n",
    ")\n",
    "\n",
    "model_info = client.get_model_info()\n",
    "print(\"Model name:\", model_info.model_name)\n",
    "print(\"Model type:\", model_info.model_type)\n",
    "print(\"Model provider name:\", model_info.model_provider_name)\n",
    "\n",
    "payload = {\n",
    "  \"messages\": [\n",
    "    {\n",
    "      \"role\": \"assistant\",\n",
    "      \"content\": \"please analyse the following data and provide and generate a credit score and risk assessment, first row represent new customer and the rest are existing customers with more data such as late payment, credit score type of card etc., we need to generate the credit risk assesment for the first (new) customer\"\n",
    "    },\n",
    "    {\n",
    "      \"role\": \"user\",\n",
    "      \"content\": \"Gender: Male, Age: 55, Marital Status: Married, Occupation: Teacher, Income Level: 12500, Education Level: Age: 55, Gender: Male, Marital Status: Married, Occupation: Business Owner, Income Level: 86420, Credit Limit: 48785, Credit Score: 609, Card Type: Gold, Years With Bank: 6, Number of Credit Cards: 2, Average Monthly Spending: 18050, Late Payments: 1, Credit Card Usage: 0.37, Mobile Banking Usage: No, Customer Satisfaction Rating: 1Age: 55, Gender: Female, Marital Status: Married, Occupation: Executive, Income Level: 211133, Credit Limit: 70591, Credit Score: 730, Card Type: Platinum, Years With Bank: 4, Number of Credit Cards: 3, Average Monthly Spending: 20471, Late Payments: 0, Credit Card Usage: 0.29, Mobile Banking Usage: Yes, Customer Satisfaction Rating: 4Age: 55, Gender: Female, Marital Status: Married, Occupation: Private Sector Employee, Income Level: 92660, Credit Limit: 18287, Credit Score: 833, Card Type: Gold, Years With Bank: 4, Number of Credit Cards: 1, Average Monthly Spending: 5486, Late Payments: 0, Credit Card Usage: 0.3, Mobile Banking Usage: Yes, Customer Satisfaction Rating: 4Age: 55, Gender: Female, Marital Status: Married, Occupation: Business Owner, Income Level: 145889, Credit Limit: 35394, Credit Score: 362, Card Type: Silver, Years With Bank: 8, Number of Credit Cards: 5, Average Monthly Spending: 23006, Late Payments: 8, Credit Card Usage: 0.65, Mobile Banking Usage: Yes, Customer Satisfaction Rating: 1Age: 55, Gender: Male, Marital Status: Widowed, Occupation: Private Sector Employee, Income Level: 93443, Credit Limit: 16933, Credit Score: 611, Card Type: Gold, Years With Bank: 14, Number of Credit Cards: 2, Average Monthly Spending: 9821, Late Payments: 2, Credit Card Usage: 0.58, Mobile Banking Usage: Yes, Customer Satisfaction Rating: 3\"\n",
    "    }\n",
    "  ],\n",
    "  \"max_tokens\": 2048,\n",
    "  \"temperature\": 0.8,\n",
    "  \"top_p\": 0.1,\n",
    "  \"presence_penalty\": 0,\n",
    "  \"frequency_penalty\": 0\n",
    "}\n",
    "response = client.complete(payload)\n",
    "\n",
    "print(\"Response:\", response.choices[0].message.content)\n",
    "print(\"Model:\", response.model)\n",
    "print(\"Usage:\")\n",
    "print(\"\tPrompt tokens:\", response.usage.prompt_tokens)\n",
    "print(\"\tTotal tokens:\", response.usage.total_tokens)"
   ]
  }
 ],
 "metadata": {
  "kernelspec": {
   "display_name": "new_venv",
   "language": "python",
   "name": "python3"
  },
  "language_info": {
   "codemirror_mode": {
    "name": "ipython",
    "version": 3
   },
   "file_extension": ".py",
   "mimetype": "text/x-python",
   "name": "python",
   "nbconvert_exporter": "python",
   "pygments_lexer": "ipython3",
   "version": "3.12.6"
  }
 },
 "nbformat": 4,
 "nbformat_minor": 2
}
