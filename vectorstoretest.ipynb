{
 "cells": [
  {
   "cell_type": "code",
   "execution_count": 2,
   "metadata": {},
   "outputs": [
    {
     "name": "stdout",
     "output_type": "stream",
     "text": [
      "ChromaDB initialized successfully.\n"
     ]
    }
   ],
   "source": [
    "import os\n",
    "from chromadb import Client\n",
    "from chromadb.config import Settings\n",
    "\n",
    "# Define persistence directory\n",
    "persist_directory = \"chroma_data\"\n",
    "if not os.path.exists(persist_directory):\n",
    "    os.makedirs(persist_directory)\n",
    "\n",
    "# Initialize ChromaDB client\n",
    "try:\n",
    "    chroma_client = Client(Settings(persist_directory=persist_directory))\n",
    "    print(\"ChromaDB initialized successfully.\")\n",
    "except Exception as e:\n",
    "    print(f\"Failed to initialize ChromaDB: {e}\")\n"
   ]
  }
 ],
 "metadata": {
  "kernelspec": {
   "display_name": "new_venv",
   "language": "python",
   "name": "python3"
  },
  "language_info": {
   "codemirror_mode": {
    "name": "ipython",
    "version": 3
   },
   "file_extension": ".py",
   "mimetype": "text/x-python",
   "name": "python",
   "nbconvert_exporter": "python",
   "pygments_lexer": "ipython3",
   "version": "3.12.6"
  }
 },
 "nbformat": 4,
 "nbformat_minor": 2
}
