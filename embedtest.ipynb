{
 "cells": [
  {
   "cell_type": "code",
   "execution_count": 1,
   "metadata": {},
   "outputs": [
    {
     "name": "stdout",
     "output_type": "stream",
     "text": [
      "Embedding created successfully: [-0.021214955, 0.0108584985, 0.0010399487, 0.00715413, 0.008742741, 0.019837918, -0.0022878873, -0.010872843, -0.032016076, -0.027425958] ...\n"
     ]
    }
   ],
   "source": [
    "import requests\n",
    "import os\n",
    "from dotenv import load_dotenv\n",
    "\n",
    "# Load environment variables\n",
    "load_dotenv()\n",
    "api_key = os.getenv(\"EMBEDDING_KEY\")\n",
    "endpoint = os.getenv(\"EMBEDDING_END_POINT\")\n",
    "\n",
    "# Define the URL for the embeddings endpoint\n",
    "model_deployment = \"text-embedding-ada-002\"\n",
    "api_version = \"2024-04-01-preview\"\n",
    "url = f\"{endpoint}/openai/deployments/{model_deployment}/embeddings?api-version={api_version}\"\n",
    "\n",
    "# Define headers\n",
    "headers = {\n",
    "    \"api-key\": api_key,\n",
    "    \"Content-Type\": \"application/json\"\n",
    "}\n",
    "\n",
    "# Define a simple text payload\n",
    "data_payload = {\n",
    "    \"input\": \"Test input for creating an embedding\"\n",
    "}\n",
    "\n",
    "# Make the API request to create the embedding\n",
    "try:\n",
    "    response = requests.post(url, headers=headers, json=data_payload)\n",
    "    if response.status_code == 200:\n",
    "        embedding = response.json()['data'][0]['embedding']\n",
    "        print(\"Embedding created successfully:\", embedding[:10], \"...\")  # Display part of the embedding\n",
    "    else:\n",
    "        print(f\"Failed to create embedding: Status code {response.status_code}, Response: {response.text}\")\n",
    "except requests.exceptions.RequestException as e:\n",
    "    print(f\"Request failed: {e}\")\n"
   ]
  }
 ],
 "metadata": {
  "kernelspec": {
   "display_name": "new_venv",
   "language": "python",
   "name": "python3"
  },
  "language_info": {
   "codemirror_mode": {
    "name": "ipython",
    "version": 3
   },
   "file_extension": ".py",
   "mimetype": "text/x-python",
   "name": "python",
   "nbconvert_exporter": "python",
   "pygments_lexer": "ipython3",
   "version": "3.12.6"
  }
 },
 "nbformat": 4,
 "nbformat_minor": 2
}
